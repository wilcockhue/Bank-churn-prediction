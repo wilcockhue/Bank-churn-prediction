{
 "cells": [
  {
   "cell_type": "code",
   "execution_count": 1,
   "id": "7b227fb2",
   "metadata": {
    "_cell_guid": "b1076dfc-b9ad-4769-8c92-a6c4dae69d19",
    "_uuid": "8f2839f25d086af736a60e9eeb907d3b93b6e0e5",
    "execution": {
     "iopub.execute_input": "2024-09-14T05:30:00.881425Z",
     "iopub.status.busy": "2024-09-14T05:30:00.880459Z",
     "iopub.status.idle": "2024-09-14T05:30:01.696874Z",
     "shell.execute_reply": "2024-09-14T05:30:01.695712Z"
    },
    "papermill": {
     "duration": 0.828633,
     "end_time": "2024-09-14T05:30:01.699987",
     "exception": false,
     "start_time": "2024-09-14T05:30:00.871354",
     "status": "completed"
    },
    "tags": []
   },
   "outputs": [
    {
     "name": "stdout",
     "output_type": "stream",
     "text": [
      "/kaggle/input/playground-series-s4e1/sample_submission.csv\n",
      "/kaggle/input/playground-series-s4e1/train.csv\n",
      "/kaggle/input/playground-series-s4e1/test.csv\n"
     ]
    }
   ],
   "source": [
    "# This Python 3 environment comes with many helpful analytics libraries installed\n",
    "# It is defined by the kaggle/python Docker image: https://github.com/kaggle/docker-python\n",
    "# For example, here's several helpful packages to load\n",
    "\n",
    "import numpy as np # linear algebra\n",
    "import pandas as pd # data processing, CSV file I/O (e.g. pd.read_csv)\n",
    "\n",
    "# Input data files are available in the read-only \"../input/\" directory\n",
    "# For example, running this (by clicking run or pressing Shift+Enter) will list all files under the input directory\n",
    "\n",
    "import os\n",
    "for dirname, _, filenames in os.walk('/kaggle/input'):\n",
    "    for filename in filenames:\n",
    "        print(os.path.join(dirname, filename))\n",
    "\n",
    "# You can write up to 20GB to the current directory (/kaggle/working/) that gets preserved as output when you create a version using \"Save & Run All\" \n",
    "# You can also write temporary files to /kaggle/temp/, but they won't be saved outside of the current session"
   ]
  },
  {
   "cell_type": "markdown",
   "id": "070731a5",
   "metadata": {
    "papermill": {
     "duration": 0.006501,
     "end_time": "2024-09-14T05:30:01.713565",
     "exception": false,
     "start_time": "2024-09-14T05:30:01.707064",
     "status": "completed"
    },
    "tags": []
   },
   "source": [
    "# ***1. Load the Data***"
   ]
  },
  {
   "cell_type": "code",
   "execution_count": 2,
   "id": "d1e09c3c",
   "metadata": {
    "execution": {
     "iopub.execute_input": "2024-09-14T05:30:01.729073Z",
     "iopub.status.busy": "2024-09-14T05:30:01.728494Z",
     "iopub.status.idle": "2024-09-14T05:30:02.637723Z",
     "shell.execute_reply": "2024-09-14T05:30:02.636614Z"
    },
    "papermill": {
     "duration": 0.92008,
     "end_time": "2024-09-14T05:30:02.640412",
     "exception": false,
     "start_time": "2024-09-14T05:30:01.720332",
     "status": "completed"
    },
    "tags": []
   },
   "outputs": [
    {
     "data": {
      "text/html": [
       "<div>\n",
       "<style scoped>\n",
       "    .dataframe tbody tr th:only-of-type {\n",
       "        vertical-align: middle;\n",
       "    }\n",
       "\n",
       "    .dataframe tbody tr th {\n",
       "        vertical-align: top;\n",
       "    }\n",
       "\n",
       "    .dataframe thead th {\n",
       "        text-align: right;\n",
       "    }\n",
       "</style>\n",
       "<table border=\"1\" class=\"dataframe\">\n",
       "  <thead>\n",
       "    <tr style=\"text-align: right;\">\n",
       "      <th></th>\n",
       "      <th>id</th>\n",
       "      <th>CustomerId</th>\n",
       "      <th>Surname</th>\n",
       "      <th>CreditScore</th>\n",
       "      <th>Geography</th>\n",
       "      <th>Gender</th>\n",
       "      <th>Age</th>\n",
       "      <th>Tenure</th>\n",
       "      <th>Balance</th>\n",
       "      <th>NumOfProducts</th>\n",
       "      <th>HasCrCard</th>\n",
       "      <th>IsActiveMember</th>\n",
       "      <th>EstimatedSalary</th>\n",
       "    </tr>\n",
       "  </thead>\n",
       "  <tbody>\n",
       "    <tr>\n",
       "      <th>0</th>\n",
       "      <td>165034</td>\n",
       "      <td>15773898</td>\n",
       "      <td>Lucchese</td>\n",
       "      <td>586</td>\n",
       "      <td>France</td>\n",
       "      <td>Female</td>\n",
       "      <td>23.0</td>\n",
       "      <td>2</td>\n",
       "      <td>0.00</td>\n",
       "      <td>2</td>\n",
       "      <td>0.0</td>\n",
       "      <td>1.0</td>\n",
       "      <td>160976.75</td>\n",
       "    </tr>\n",
       "    <tr>\n",
       "      <th>1</th>\n",
       "      <td>165035</td>\n",
       "      <td>15782418</td>\n",
       "      <td>Nott</td>\n",
       "      <td>683</td>\n",
       "      <td>France</td>\n",
       "      <td>Female</td>\n",
       "      <td>46.0</td>\n",
       "      <td>2</td>\n",
       "      <td>0.00</td>\n",
       "      <td>1</td>\n",
       "      <td>1.0</td>\n",
       "      <td>0.0</td>\n",
       "      <td>72549.27</td>\n",
       "    </tr>\n",
       "    <tr>\n",
       "      <th>2</th>\n",
       "      <td>165036</td>\n",
       "      <td>15807120</td>\n",
       "      <td>K?</td>\n",
       "      <td>656</td>\n",
       "      <td>France</td>\n",
       "      <td>Female</td>\n",
       "      <td>34.0</td>\n",
       "      <td>7</td>\n",
       "      <td>0.00</td>\n",
       "      <td>2</td>\n",
       "      <td>1.0</td>\n",
       "      <td>0.0</td>\n",
       "      <td>138882.09</td>\n",
       "    </tr>\n",
       "    <tr>\n",
       "      <th>3</th>\n",
       "      <td>165037</td>\n",
       "      <td>15808905</td>\n",
       "      <td>O'Donnell</td>\n",
       "      <td>681</td>\n",
       "      <td>France</td>\n",
       "      <td>Male</td>\n",
       "      <td>36.0</td>\n",
       "      <td>8</td>\n",
       "      <td>0.00</td>\n",
       "      <td>1</td>\n",
       "      <td>1.0</td>\n",
       "      <td>0.0</td>\n",
       "      <td>113931.57</td>\n",
       "    </tr>\n",
       "    <tr>\n",
       "      <th>4</th>\n",
       "      <td>165038</td>\n",
       "      <td>15607314</td>\n",
       "      <td>Higgins</td>\n",
       "      <td>752</td>\n",
       "      <td>Germany</td>\n",
       "      <td>Male</td>\n",
       "      <td>38.0</td>\n",
       "      <td>10</td>\n",
       "      <td>121263.62</td>\n",
       "      <td>1</td>\n",
       "      <td>1.0</td>\n",
       "      <td>0.0</td>\n",
       "      <td>139431.00</td>\n",
       "    </tr>\n",
       "    <tr>\n",
       "      <th>...</th>\n",
       "      <td>...</td>\n",
       "      <td>...</td>\n",
       "      <td>...</td>\n",
       "      <td>...</td>\n",
       "      <td>...</td>\n",
       "      <td>...</td>\n",
       "      <td>...</td>\n",
       "      <td>...</td>\n",
       "      <td>...</td>\n",
       "      <td>...</td>\n",
       "      <td>...</td>\n",
       "      <td>...</td>\n",
       "      <td>...</td>\n",
       "    </tr>\n",
       "    <tr>\n",
       "      <th>110018</th>\n",
       "      <td>275052</td>\n",
       "      <td>15662091</td>\n",
       "      <td>P'eng</td>\n",
       "      <td>570</td>\n",
       "      <td>Spain</td>\n",
       "      <td>Male</td>\n",
       "      <td>29.0</td>\n",
       "      <td>7</td>\n",
       "      <td>116099.82</td>\n",
       "      <td>1</td>\n",
       "      <td>1.0</td>\n",
       "      <td>1.0</td>\n",
       "      <td>148087.62</td>\n",
       "    </tr>\n",
       "    <tr>\n",
       "      <th>110019</th>\n",
       "      <td>275053</td>\n",
       "      <td>15774133</td>\n",
       "      <td>Cox</td>\n",
       "      <td>575</td>\n",
       "      <td>France</td>\n",
       "      <td>Female</td>\n",
       "      <td>36.0</td>\n",
       "      <td>4</td>\n",
       "      <td>178032.53</td>\n",
       "      <td>1</td>\n",
       "      <td>1.0</td>\n",
       "      <td>1.0</td>\n",
       "      <td>42181.68</td>\n",
       "    </tr>\n",
       "    <tr>\n",
       "      <th>110020</th>\n",
       "      <td>275054</td>\n",
       "      <td>15728456</td>\n",
       "      <td>Ch'iu</td>\n",
       "      <td>712</td>\n",
       "      <td>France</td>\n",
       "      <td>Male</td>\n",
       "      <td>31.0</td>\n",
       "      <td>2</td>\n",
       "      <td>0.00</td>\n",
       "      <td>2</td>\n",
       "      <td>1.0</td>\n",
       "      <td>0.0</td>\n",
       "      <td>16287.38</td>\n",
       "    </tr>\n",
       "    <tr>\n",
       "      <th>110021</th>\n",
       "      <td>275055</td>\n",
       "      <td>15687541</td>\n",
       "      <td>Yegorova</td>\n",
       "      <td>709</td>\n",
       "      <td>France</td>\n",
       "      <td>Female</td>\n",
       "      <td>32.0</td>\n",
       "      <td>3</td>\n",
       "      <td>0.00</td>\n",
       "      <td>1</td>\n",
       "      <td>1.0</td>\n",
       "      <td>1.0</td>\n",
       "      <td>158816.58</td>\n",
       "    </tr>\n",
       "    <tr>\n",
       "      <th>110022</th>\n",
       "      <td>275056</td>\n",
       "      <td>15663942</td>\n",
       "      <td>Tuan</td>\n",
       "      <td>621</td>\n",
       "      <td>France</td>\n",
       "      <td>Female</td>\n",
       "      <td>37.0</td>\n",
       "      <td>7</td>\n",
       "      <td>87848.39</td>\n",
       "      <td>1</td>\n",
       "      <td>1.0</td>\n",
       "      <td>0.0</td>\n",
       "      <td>24210.56</td>\n",
       "    </tr>\n",
       "  </tbody>\n",
       "</table>\n",
       "<p>110023 rows × 13 columns</p>\n",
       "</div>"
      ],
      "text/plain": [
       "            id  CustomerId    Surname  CreditScore Geography  Gender   Age  \\\n",
       "0       165034    15773898   Lucchese          586    France  Female  23.0   \n",
       "1       165035    15782418       Nott          683    France  Female  46.0   \n",
       "2       165036    15807120         K?          656    France  Female  34.0   \n",
       "3       165037    15808905  O'Donnell          681    France    Male  36.0   \n",
       "4       165038    15607314    Higgins          752   Germany    Male  38.0   \n",
       "...        ...         ...        ...          ...       ...     ...   ...   \n",
       "110018  275052    15662091      P'eng          570     Spain    Male  29.0   \n",
       "110019  275053    15774133        Cox          575    France  Female  36.0   \n",
       "110020  275054    15728456      Ch'iu          712    France    Male  31.0   \n",
       "110021  275055    15687541   Yegorova          709    France  Female  32.0   \n",
       "110022  275056    15663942       Tuan          621    France  Female  37.0   \n",
       "\n",
       "        Tenure    Balance  NumOfProducts  HasCrCard  IsActiveMember  \\\n",
       "0            2       0.00              2        0.0             1.0   \n",
       "1            2       0.00              1        1.0             0.0   \n",
       "2            7       0.00              2        1.0             0.0   \n",
       "3            8       0.00              1        1.0             0.0   \n",
       "4           10  121263.62              1        1.0             0.0   \n",
       "...        ...        ...            ...        ...             ...   \n",
       "110018       7  116099.82              1        1.0             1.0   \n",
       "110019       4  178032.53              1        1.0             1.0   \n",
       "110020       2       0.00              2        1.0             0.0   \n",
       "110021       3       0.00              1        1.0             1.0   \n",
       "110022       7   87848.39              1        1.0             0.0   \n",
       "\n",
       "        EstimatedSalary  \n",
       "0             160976.75  \n",
       "1              72549.27  \n",
       "2             138882.09  \n",
       "3             113931.57  \n",
       "4             139431.00  \n",
       "...                 ...  \n",
       "110018        148087.62  \n",
       "110019         42181.68  \n",
       "110020         16287.38  \n",
       "110021        158816.58  \n",
       "110022         24210.56  \n",
       "\n",
       "[110023 rows x 13 columns]"
      ]
     },
     "execution_count": 2,
     "metadata": {},
     "output_type": "execute_result"
    }
   ],
   "source": [
    "df = pd.read_csv('/kaggle/input/playground-series-s4e1/train.csv')\n",
    "df1 = pd.read_csv('/kaggle/input/playground-series-s4e1/test.csv')\n",
    "df1"
   ]
  },
  {
   "cell_type": "code",
   "execution_count": 3,
   "id": "cefbf441",
   "metadata": {
    "execution": {
     "iopub.execute_input": "2024-09-14T05:30:02.656955Z",
     "iopub.status.busy": "2024-09-14T05:30:02.656513Z",
     "iopub.status.idle": "2024-09-14T05:30:05.336475Z",
     "shell.execute_reply": "2024-09-14T05:30:05.335232Z"
    },
    "papermill": {
     "duration": 2.691436,
     "end_time": "2024-09-14T05:30:05.339203",
     "exception": false,
     "start_time": "2024-09-14T05:30:02.647767",
     "status": "completed"
    },
    "tags": []
   },
   "outputs": [],
   "source": [
    "import matplotlib.pyplot as plt\n",
    "import seaborn as sns\n",
    "from sklearn.preprocessing import LabelEncoder, OneHotEncoder, OrdinalEncoder\n",
    "from sklearn.preprocessing import StandardScaler, MinMaxScaler, QuantileTransformer\n",
    "from sklearn.experimental import enable_iterative_imputer\n",
    "from sklearn.impute import KNNImputer, SimpleImputer, IterativeImputer\n",
    "from sklearn.linear_model import BayesianRidge \n",
    "from sklearn.ensemble import RandomForestRegressor, GradientBoostingRegressor, AdaBoostRegressor\n",
    "from sklearn.model_selection import RandomizedSearchCV\n",
    "from sklearn.model_selection import train_test_split, cross_val_score, GridSearchCV, KFold\n",
    "from sklearn.pipeline import Pipeline\n",
    "from sklearn.compose import ColumnTransformer\n",
    "from sklearn.linear_model import LinearRegression\n",
    "from sklearn.svm import SVR\n",
    "from sklearn.ensemble import GradientBoostingClassifier\n",
    "from xgboost import XGBClassifier\n",
    "from sklearn.ensemble import RandomForestClassifier\n",
    "from catboost import CatBoostClassifier\n",
    "from sklearn.metrics import accuracy_score, confusion_matrix, classification_report, precision_score, recall_score"
   ]
  },
  {
   "cell_type": "markdown",
   "id": "dcf10017",
   "metadata": {
    "papermill": {
     "duration": 0.007652,
     "end_time": "2024-09-14T05:30:05.354173",
     "exception": false,
     "start_time": "2024-09-14T05:30:05.346521",
     "status": "completed"
    },
    "tags": []
   },
   "source": [
    "# **2. Analyse the Data**"
   ]
  },
  {
   "cell_type": "code",
   "execution_count": 4,
   "id": "c8813c2d",
   "metadata": {
    "execution": {
     "iopub.execute_input": "2024-09-14T05:30:05.370903Z",
     "iopub.status.busy": "2024-09-14T05:30:05.370281Z",
     "iopub.status.idle": "2024-09-14T05:30:05.451789Z",
     "shell.execute_reply": "2024-09-14T05:30:05.450546Z"
    },
    "papermill": {
     "duration": 0.092834,
     "end_time": "2024-09-14T05:30:05.454417",
     "exception": false,
     "start_time": "2024-09-14T05:30:05.361583",
     "status": "completed"
    },
    "tags": []
   },
   "outputs": [
    {
     "name": "stdout",
     "output_type": "stream",
     "text": [
      "<class 'pandas.core.frame.DataFrame'>\n",
      "RangeIndex: 165034 entries, 0 to 165033\n",
      "Data columns (total 14 columns):\n",
      " #   Column           Non-Null Count   Dtype  \n",
      "---  ------           --------------   -----  \n",
      " 0   id               165034 non-null  int64  \n",
      " 1   CustomerId       165034 non-null  int64  \n",
      " 2   Surname          165034 non-null  object \n",
      " 3   CreditScore      165034 non-null  int64  \n",
      " 4   Geography        165034 non-null  object \n",
      " 5   Gender           165034 non-null  object \n",
      " 6   Age              165034 non-null  float64\n",
      " 7   Tenure           165034 non-null  int64  \n",
      " 8   Balance          165034 non-null  float64\n",
      " 9   NumOfProducts    165034 non-null  int64  \n",
      " 10  HasCrCard        165034 non-null  float64\n",
      " 11  IsActiveMember   165034 non-null  float64\n",
      " 12  EstimatedSalary  165034 non-null  float64\n",
      " 13  Exited           165034 non-null  int64  \n",
      "dtypes: float64(5), int64(6), object(3)\n",
      "memory usage: 17.6+ MB\n"
     ]
    }
   ],
   "source": [
    "df.info()"
   ]
  },
  {
   "cell_type": "code",
   "execution_count": 5,
   "id": "8656690b",
   "metadata": {
    "execution": {
     "iopub.execute_input": "2024-09-14T05:30:05.470638Z",
     "iopub.status.busy": "2024-09-14T05:30:05.470175Z",
     "iopub.status.idle": "2024-09-14T05:30:05.815014Z",
     "shell.execute_reply": "2024-09-14T05:30:05.814054Z"
    },
    "papermill": {
     "duration": 0.356167,
     "end_time": "2024-09-14T05:30:05.817742",
     "exception": false,
     "start_time": "2024-09-14T05:30:05.461575",
     "status": "completed"
    },
    "tags": []
   },
   "outputs": [
    {
     "data": {
      "text/plain": [
       "<Axes: ylabel='Frequency'>"
      ]
     },
     "execution_count": 5,
     "metadata": {},
     "output_type": "execute_result"
    },
    {
     "data": {
      "image/png": "[encoded data removed]",
      "text/plain": [
       "<Figure size 600x400 with 1 Axes>"
      ]
     },
     "metadata": {},
     "output_type": "display_data"
    }
   ],
   "source": [
    "fig, ax = plt.subplots(figsize=(6,4))\n",
    "df.CreditScore.plot(kind='hist', ax=ax)"
   ]
  },
  {
   "cell_type": "markdown",
   "id": "43fa831a",
   "metadata": {
    "papermill": {
     "duration": 0.007444,
     "end_time": "2024-09-14T05:30:05.833211",
     "exception": false,
     "start_time": "2024-09-14T05:30:05.825767",
     "status": "completed"
    },
    "tags": []
   },
   "source": [
    "# **3. Data Cleaning**"
   ]
  },
  {
   "cell_type": "code",
   "execution_count": 6,
   "id": "196eeeab",
   "metadata": {
    "execution": {
     "iopub.execute_input": "2024-09-14T05:30:05.850843Z",
     "iopub.status.busy": "2024-09-14T05:30:05.850386Z",
     "iopub.status.idle": "2024-09-14T05:30:05.874041Z",
     "shell.execute_reply": "2024-09-14T05:30:05.872963Z"
    },
    "papermill": {
     "duration": 0.035783,
     "end_time": "2024-09-14T05:30:05.876796",
     "exception": false,
     "start_time": "2024-09-14T05:30:05.841013",
     "status": "completed"
    },
    "tags": []
   },
   "outputs": [],
   "source": [
    "X = df.drop(['id','CustomerId','Surname','Exited'], axis=1)\n",
    "id = df1.id\n",
    "df1 = df1.drop(['id','CustomerId','Surname'], axis=1)\n",
    "y = df[['Exited']]\n"
   ]
  },
  {
   "cell_type": "code",
   "execution_count": 7,
   "id": "3a22d5ca",
   "metadata": {
    "execution": {
     "iopub.execute_input": "2024-09-14T05:30:05.895184Z",
     "iopub.status.busy": "2024-09-14T05:30:05.894752Z",
     "iopub.status.idle": "2024-09-14T05:30:05.945232Z",
     "shell.execute_reply": "2024-09-14T05:30:05.944272Z"
    },
    "papermill": {
     "duration": 0.063182,
     "end_time": "2024-09-14T05:30:05.948108",
     "exception": false,
     "start_time": "2024-09-14T05:30:05.884926",
     "status": "completed"
    },
    "tags": []
   },
   "outputs": [],
   "source": [
    "X_train, X_test, y_train, y_test = train_test_split(X, y, test_size=0.2, random_state=42)\n",
    "cat_col = ['Gender','Geography', 'HasCrCard', 'IsActiveMember']\n",
    "num_col = ['CreditScore', 'Age', 'Tenure', 'Balance', 'NumOfProducts', 'EstimatedSalary']"
   ]
  },
  {
   "cell_type": "code",
   "execution_count": 8,
   "id": "54dda3d9",
   "metadata": {
    "execution": {
     "iopub.execute_input": "2024-09-14T05:30:05.965669Z",
     "iopub.status.busy": "2024-09-14T05:30:05.965176Z",
     "iopub.status.idle": "2024-09-14T05:30:05.970869Z",
     "shell.execute_reply": "2024-09-14T05:30:05.969731Z"
    },
    "papermill": {
     "duration": 0.017148,
     "end_time": "2024-09-14T05:30:05.973163",
     "exception": false,
     "start_time": "2024-09-14T05:30:05.956015",
     "status": "completed"
    },
    "tags": []
   },
   "outputs": [],
   "source": [
    "min_max = MinMaxScaler()\n",
    "one_hot = OneHotEncoder()\n",
    "preprocessing = ColumnTransformer([('num', min_max, num_col), ('cat', one_hot, cat_col)])"
   ]
  },
  {
   "cell_type": "code",
   "execution_count": 9,
   "id": "17529c40",
   "metadata": {
    "execution": {
     "iopub.execute_input": "2024-09-14T05:30:05.991609Z",
     "iopub.status.busy": "2024-09-14T05:30:05.990583Z",
     "iopub.status.idle": "2024-09-14T05:30:06.220718Z",
     "shell.execute_reply": "2024-09-14T05:30:06.219603Z"
    },
    "papermill": {
     "duration": 0.242183,
     "end_time": "2024-09-14T05:30:06.223379",
     "exception": false,
     "start_time": "2024-09-14T05:30:05.981196",
     "status": "completed"
    },
    "tags": []
   },
   "outputs": [],
   "source": [
    "X_train = preprocessing.fit_transform(X_train)\n",
    "X_test = preprocessing.fit_transform(X_test)"
   ]
  },
  {
   "cell_type": "markdown",
   "id": "775f6f1c",
   "metadata": {
    "papermill": {
     "duration": 0.007215,
     "end_time": "2024-09-14T05:30:06.238506",
     "exception": false,
     "start_time": "2024-09-14T05:30:06.231291",
     "status": "completed"
    },
    "tags": []
   },
   "source": [
    "# **4. Fit the Model**"
   ]
  },
  {
   "cell_type": "code",
   "execution_count": 10,
   "id": "adb2ecc2",
   "metadata": {
    "execution": {
     "iopub.execute_input": "2024-09-14T05:30:06.255429Z",
     "iopub.status.busy": "2024-09-14T05:30:06.255001Z",
     "iopub.status.idle": "2024-09-14T05:36:57.409070Z",
     "shell.execute_reply": "2024-09-14T05:36:57.407523Z"
    },
    "papermill": {
     "duration": 411.176589,
     "end_time": "2024-09-14T05:36:57.422809",
     "exception": false,
     "start_time": "2024-09-14T05:30:06.246220",
     "status": "completed"
    },
    "tags": []
   },
   "outputs": [
    {
     "name": "stderr",
     "output_type": "stream",
     "text": [
      "/opt/conda/lib/python3.10/site-packages/sklearn/model_selection/_validation.py:686: DataConversionWarning: A column-vector y was passed when a 1d array was expected. Please change the shape of y to (n_samples,), for example using ravel().\n",
      "  estimator.fit(X_train, y_train, **fit_params)\n",
      "/opt/conda/lib/python3.10/site-packages/sklearn/model_selection/_validation.py:686: DataConversionWarning: A column-vector y was passed when a 1d array was expected. Please change the shape of y to (n_samples,), for example using ravel().\n",
      "  estimator.fit(X_train, y_train, **fit_params)\n",
      "/opt/conda/lib/python3.10/site-packages/sklearn/model_selection/_validation.py:686: DataConversionWarning: A column-vector y was passed when a 1d array was expected. Please change the shape of y to (n_samples,), for example using ravel().\n",
      "  estimator.fit(X_train, y_train, **fit_params)\n",
      "/opt/conda/lib/python3.10/site-packages/sklearn/model_selection/_validation.py:686: DataConversionWarning: A column-vector y was passed when a 1d array was expected. Please change the shape of y to (n_samples,), for example using ravel().\n",
      "  estimator.fit(X_train, y_train, **fit_params)\n",
      "/opt/conda/lib/python3.10/site-packages/sklearn/model_selection/_validation.py:686: DataConversionWarning: A column-vector y was passed when a 1d array was expected. Please change the shape of y to (n_samples,), for example using ravel().\n",
      "  estimator.fit(X_train, y_train, **fit_params)\n",
      "/opt/conda/lib/python3.10/site-packages/sklearn/model_selection/_validation.py:686: DataConversionWarning: A column-vector y was passed when a 1d array was expected. Please change the shape of y to (n_samples,), for example using ravel().\n",
      "  estimator.fit(X_train, y_train, **fit_params)\n",
      "/opt/conda/lib/python3.10/site-packages/sklearn/model_selection/_validation.py:686: DataConversionWarning: A column-vector y was passed when a 1d array was expected. Please change the shape of y to (n_samples,), for example using ravel().\n",
      "  estimator.fit(X_train, y_train, **fit_params)\n",
      "/opt/conda/lib/python3.10/site-packages/sklearn/model_selection/_validation.py:686: DataConversionWarning: A column-vector y was passed when a 1d array was expected. Please change the shape of y to (n_samples,), for example using ravel().\n",
      "  estimator.fit(X_train, y_train, **fit_params)\n",
      "/opt/conda/lib/python3.10/site-packages/sklearn/model_selection/_validation.py:686: DataConversionWarning: A column-vector y was passed when a 1d array was expected. Please change the shape of y to (n_samples,), for example using ravel().\n",
      "  estimator.fit(X_train, y_train, **fit_params)\n",
      "/opt/conda/lib/python3.10/site-packages/sklearn/model_selection/_validation.py:686: DataConversionWarning: A column-vector y was passed when a 1d array was expected. Please change the shape of y to (n_samples,), for example using ravel().\n",
      "  estimator.fit(X_train, y_train, **fit_params)\n"
     ]
    },
    {
     "name": "stdout",
     "output_type": "stream",
     "text": [
      "RandomForestClassifier  AUC: 0.872 STD: 0.00\n",
      "XGBClassifier           AUC: 0.886 STD: 0.00\n"
     ]
    },
    {
     "name": "stderr",
     "output_type": "stream",
     "text": [
      "/opt/conda/lib/python3.10/site-packages/sklearn/ensemble/_gb.py:437: DataConversionWarning: A column-vector y was passed when a 1d array was expected. Please change the shape of y to (n_samples, ), for example using ravel().\n",
      "  y = column_or_1d(y, warn=True)\n",
      "/opt/conda/lib/python3.10/site-packages/sklearn/ensemble/_gb.py:437: DataConversionWarning: A column-vector y was passed when a 1d array was expected. Please change the shape of y to (n_samples, ), for example using ravel().\n",
      "  y = column_or_1d(y, warn=True)\n",
      "/opt/conda/lib/python3.10/site-packages/sklearn/ensemble/_gb.py:437: DataConversionWarning: A column-vector y was passed when a 1d array was expected. Please change the shape of y to (n_samples, ), for example using ravel().\n",
      "  y = column_or_1d(y, warn=True)\n",
      "/opt/conda/lib/python3.10/site-packages/sklearn/ensemble/_gb.py:437: DataConversionWarning: A column-vector y was passed when a 1d array was expected. Please change the shape of y to (n_samples, ), for example using ravel().\n",
      "  y = column_or_1d(y, warn=True)\n",
      "/opt/conda/lib/python3.10/site-packages/sklearn/ensemble/_gb.py:437: DataConversionWarning: A column-vector y was passed when a 1d array was expected. Please change the shape of y to (n_samples, ), for example using ravel().\n",
      "  y = column_or_1d(y, warn=True)\n",
      "/opt/conda/lib/python3.10/site-packages/sklearn/ensemble/_gb.py:437: DataConversionWarning: A column-vector y was passed when a 1d array was expected. Please change the shape of y to (n_samples, ), for example using ravel().\n",
      "  y = column_or_1d(y, warn=True)\n",
      "/opt/conda/lib/python3.10/site-packages/sklearn/ensemble/_gb.py:437: DataConversionWarning: A column-vector y was passed when a 1d array was expected. Please change the shape of y to (n_samples, ), for example using ravel().\n",
      "  y = column_or_1d(y, warn=True)\n",
      "/opt/conda/lib/python3.10/site-packages/sklearn/ensemble/_gb.py:437: DataConversionWarning: A column-vector y was passed when a 1d array was expected. Please change the shape of y to (n_samples, ), for example using ravel().\n",
      "  y = column_or_1d(y, warn=True)\n",
      "/opt/conda/lib/python3.10/site-packages/sklearn/ensemble/_gb.py:437: DataConversionWarning: A column-vector y was passed when a 1d array was expected. Please change the shape of y to (n_samples, ), for example using ravel().\n",
      "  y = column_or_1d(y, warn=True)\n",
      "/opt/conda/lib/python3.10/site-packages/sklearn/ensemble/_gb.py:437: DataConversionWarning: A column-vector y was passed when a 1d array was expected. Please change the shape of y to (n_samples, ), for example using ravel().\n",
      "  y = column_or_1d(y, warn=True)\n"
     ]
    },
    {
     "name": "stdout",
     "output_type": "stream",
     "text": [
      "GradientBoostingClassifier  AUC: 0.888 STD: 0.00\n"
     ]
    }
   ],
   "source": [
    "for model in [RandomForestClassifier, XGBClassifier, GradientBoostingClassifier]:\n",
    "    cls = model()\n",
    "    kfold = KFold(n_splits=10, shuffle=True, random_state=42)\n",
    "    s = cross_val_score(cls, X_train, y_train, scoring='roc_auc', cv=kfold, verbose=0)\n",
    "    print(\n",
    "        f\"{model.__name__:22}  AUC: \"\n",
    "        f\"{s.mean():.3f} STD: {s.std():.2f}\"\n",
    "    )"
   ]
  },
  {
   "cell_type": "code",
   "execution_count": 11,
   "id": "c57cbd61",
   "metadata": {
    "execution": {
     "iopub.execute_input": "2024-09-14T05:36:57.444748Z",
     "iopub.status.busy": "2024-09-14T05:36:57.444202Z",
     "iopub.status.idle": "2024-09-14T05:37:18.448810Z",
     "shell.execute_reply": "2024-09-14T05:37:18.447599Z"
    },
    "papermill": {
     "duration": 21.018511,
     "end_time": "2024-09-14T05:37:18.451164",
     "exception": false,
     "start_time": "2024-09-14T05:36:57.432653",
     "status": "completed"
    },
    "tags": []
   },
   "outputs": [
    {
     "name": "stderr",
     "output_type": "stream",
     "text": [
      "/opt/conda/lib/python3.10/site-packages/sklearn/ensemble/_gb.py:437: DataConversionWarning: A column-vector y was passed when a 1d array was expected. Please change the shape of y to (n_samples, ), for example using ravel().\n",
      "  y = column_or_1d(y, warn=True)\n"
     ]
    },
    {
     "data": {
      "text/plain": [
       "0.8663010876480747"
      ]
     },
     "execution_count": 11,
     "metadata": {},
     "output_type": "execute_result"
    }
   ],
   "source": [
    "gb = GradientBoostingClassifier()\n",
    "gb.fit(X_train, y_train)\n",
    "y_predict = gb.predict(X_test)\n",
    "prob = gb.predict_proba(X_test)\n",
    "accuracy = accuracy_score(y_test, y_predict)\n",
    "accuracy"
   ]
  },
  {
   "cell_type": "code",
   "execution_count": 12,
   "id": "2974f66e",
   "metadata": {
    "execution": {
     "iopub.execute_input": "2024-09-14T05:37:18.474652Z",
     "iopub.status.busy": "2024-09-14T05:37:18.473727Z",
     "iopub.status.idle": "2024-09-14T05:37:18.496355Z",
     "shell.execute_reply": "2024-09-14T05:37:18.495234Z"
    },
    "papermill": {
     "duration": 0.036769,
     "end_time": "2024-09-14T05:37:18.498954",
     "exception": false,
     "start_time": "2024-09-14T05:37:18.462185",
     "status": "completed"
    },
    "tags": []
   },
   "outputs": [
    {
     "data": {
      "text/plain": [
       "0.8899169200171797"
      ]
     },
     "execution_count": 12,
     "metadata": {},
     "output_type": "execute_result"
    }
   ],
   "source": [
    "from sklearn.metrics import roc_auc_score\n",
    "roc_auc_score(y_test, prob[:, 1])"
   ]
  },
  {
   "cell_type": "code",
   "execution_count": 13,
   "id": "8a736abd",
   "metadata": {
    "execution": {
     "iopub.execute_input": "2024-09-14T05:37:18.522146Z",
     "iopub.status.busy": "2024-09-14T05:37:18.521713Z",
     "iopub.status.idle": "2024-09-14T05:37:19.424470Z",
     "shell.execute_reply": "2024-09-14T05:37:19.423462Z"
    },
    "papermill": {
     "duration": 0.918784,
     "end_time": "2024-09-14T05:37:19.428267",
     "exception": false,
     "start_time": "2024-09-14T05:37:18.509483",
     "status": "completed"
    },
    "tags": []
   },
   "outputs": [
    {
     "data": {
      "image/png": "[encoded data removed]",
      "text/plain": [
       "<Figure size 600x600 with 1 Axes>"
      ]
     },
     "metadata": {},
     "output_type": "display_data"
    },
    {
     "data": {
      "text/plain": [
       "<Axes: title={'center': 'ROC Curves for GradientBoostingClassifier'}, xlabel='False Positive Rate', ylabel='True Positive Rate'>"
      ]
     },
     "execution_count": 13,
     "metadata": {},
     "output_type": "execute_result"
    }
   ],
   "source": [
    "from yellowbrick.classifier import ROCAUC\n",
    "fig, ax =plt.subplots(figsize=(6,6))\n",
    "roc_viz = ROCAUC(gb)\n",
    "roc_viz.fit(X_train, y_train)\n",
    "roc_viz.score(X_test, y_test)\n",
    "roc_viz.poof()"
   ]
  },
  {
   "cell_type": "code",
   "execution_count": 14,
   "id": "3dc2becc",
   "metadata": {
    "execution": {
     "iopub.execute_input": "2024-09-14T05:37:19.453868Z",
     "iopub.status.busy": "2024-09-14T05:37:19.453205Z",
     "iopub.status.idle": "2024-09-14T05:37:19.797027Z",
     "shell.execute_reply": "2024-09-14T05:37:19.795864Z"
    },
    "papermill": {
     "duration": 0.359441,
     "end_time": "2024-09-14T05:37:19.799397",
     "exception": false,
     "start_time": "2024-09-14T05:37:19.439956",
     "status": "completed"
    },
    "tags": []
   },
   "outputs": [
    {
     "data": {
      "text/html": [
       "<div>\n",
       "<style scoped>\n",
       "    .dataframe tbody tr th:only-of-type {\n",
       "        vertical-align: middle;\n",
       "    }\n",
       "\n",
       "    .dataframe tbody tr th {\n",
       "        vertical-align: top;\n",
       "    }\n",
       "\n",
       "    .dataframe thead th {\n",
       "        text-align: right;\n",
       "    }\n",
       "</style>\n",
       "<table border=\"1\" class=\"dataframe\">\n",
       "  <thead>\n",
       "    <tr style=\"text-align: right;\">\n",
       "      <th></th>\n",
       "      <th>id</th>\n",
       "      <th>Exited</th>\n",
       "    </tr>\n",
       "  </thead>\n",
       "  <tbody>\n",
       "    <tr>\n",
       "      <th>0</th>\n",
       "      <td>165034</td>\n",
       "      <td>0.023634</td>\n",
       "    </tr>\n",
       "    <tr>\n",
       "      <th>1</th>\n",
       "      <td>165035</td>\n",
       "      <td>0.828897</td>\n",
       "    </tr>\n",
       "    <tr>\n",
       "      <th>2</th>\n",
       "      <td>165036</td>\n",
       "      <td>0.038116</td>\n",
       "    </tr>\n",
       "    <tr>\n",
       "      <th>3</th>\n",
       "      <td>165037</td>\n",
       "      <td>0.245149</td>\n",
       "    </tr>\n",
       "    <tr>\n",
       "      <th>4</th>\n",
       "      <td>165038</td>\n",
       "      <td>0.344603</td>\n",
       "    </tr>\n",
       "    <tr>\n",
       "      <th>...</th>\n",
       "      <td>...</td>\n",
       "      <td>...</td>\n",
       "    </tr>\n",
       "    <tr>\n",
       "      <th>110018</th>\n",
       "      <td>275052</td>\n",
       "      <td>0.043858</td>\n",
       "    </tr>\n",
       "    <tr>\n",
       "      <th>110019</th>\n",
       "      <td>275053</td>\n",
       "      <td>0.085781</td>\n",
       "    </tr>\n",
       "    <tr>\n",
       "      <th>110020</th>\n",
       "      <td>275054</td>\n",
       "      <td>0.026653</td>\n",
       "    </tr>\n",
       "    <tr>\n",
       "      <th>110021</th>\n",
       "      <td>275055</td>\n",
       "      <td>0.144418</td>\n",
       "    </tr>\n",
       "    <tr>\n",
       "      <th>110022</th>\n",
       "      <td>275056</td>\n",
       "      <td>0.194421</td>\n",
       "    </tr>\n",
       "  </tbody>\n",
       "</table>\n",
       "<p>110023 rows × 2 columns</p>\n",
       "</div>"
      ],
      "text/plain": [
       "            id    Exited\n",
       "0       165034  0.023634\n",
       "1       165035  0.828897\n",
       "2       165036  0.038116\n",
       "3       165037  0.245149\n",
       "4       165038  0.344603\n",
       "...        ...       ...\n",
       "110018  275052  0.043858\n",
       "110019  275053  0.085781\n",
       "110020  275054  0.026653\n",
       "110021  275055  0.144418\n",
       "110022  275056  0.194421\n",
       "\n",
       "[110023 rows x 2 columns]"
      ]
     },
     "execution_count": 14,
     "metadata": {},
     "output_type": "execute_result"
    }
   ],
   "source": [
    "y_final = preprocessing.transform(df1)\n",
    "y_pred_final= gb.predict_proba(y_final)[:,1]\n",
    "prediction = pd.DataFrame({\"id\": id,\"Exited\": y_pred_final})\n",
    "prediction"
   ]
  },
  {
   "cell_type": "code",
   "execution_count": 15,
   "id": "729db000",
   "metadata": {
    "execution": {
     "iopub.execute_input": "2024-09-14T05:37:19.825009Z",
     "iopub.status.busy": "2024-09-14T05:37:19.824183Z",
     "iopub.status.idle": "2024-09-14T05:37:20.192344Z",
     "shell.execute_reply": "2024-09-14T05:37:20.191377Z"
    },
    "papermill": {
     "duration": 0.383832,
     "end_time": "2024-09-14T05:37:20.195066",
     "exception": false,
     "start_time": "2024-09-14T05:37:19.811234",
     "status": "completed"
    },
    "tags": []
   },
   "outputs": [],
   "source": [
    "prediction.to_csv('submission.csv', index=False)"
   ]
  }
 ],
 "metadata": {
  "kaggle": {
   "accelerator": "none",
   "dataSources": [
    {
     "databundleVersionId": 7405009,
     "sourceId": 65711,
     "sourceType": "competition"
    }
   ],
   "dockerImageVersionId": 30761,
   "isGpuEnabled": false,
   "isInternetEnabled": false,
   "language": "python",
   "sourceType": "notebook"
  },
  "kernelspec": {
   "display_name": "Python 3",
   "language": "python",
   "name": "python3"
  },
  "language_info": {
   "codemirror_mode": {
    "name": "ipython",
    "version": 3
   },
   "file_extension": ".py",
   "mimetype": "text/x-python",
   "name": "python",
   "nbconvert_exporter": "python",
   "pygments_lexer": "ipython3",
   "version": "3.10.14"
  },
  "papermill": {
   "default_parameters": {},
   "duration": 443.484997,
   "end_time": "2024-09-14T05:37:20.928975",
   "environment_variables": {},
   "exception": null,
   "input_path": "__notebook__.ipynb",
   "output_path": "__notebook__.ipynb",
   "parameters": {},
   "start_time": "2024-09-14T05:29:57.443978",
   "version": "2.6.0"
  }
 },
 "nbformat": 4,
 "nbformat_minor": 5
}
